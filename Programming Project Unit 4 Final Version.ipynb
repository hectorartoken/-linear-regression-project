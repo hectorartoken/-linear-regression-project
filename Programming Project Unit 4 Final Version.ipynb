{
 "cells": [
  {
   "cell_type": "markdown",
   "metadata": {},
   "source": [
    "# Linear Regression\n",
    "\n",
    "## Team\n",
    "## Héctor Hernández, Jesús Catzin Data\n",
    "\n",
    "# Teacher Didier Gamboa\n",
    "\n",
    "## UPY"
   ]
  },
  {
   "cell_type": "code",
   "execution_count": 90,
   "metadata": {},
   "outputs": [],
   "source": [
    "import numpy as np\n",
    "import matplotlib.pyplot as plt\n",
    "import math as mt\n",
    "from scipy.stats import t"
   ]
  },
  {
   "cell_type": "markdown",
   "metadata": {},
   "source": [
    "# Functions"
   ]
  },
  {
   "cell_type": "code",
   "execution_count": 91,
   "metadata": {},
   "outputs": [],
   "source": [
    "def r_pearson(x,y):\n",
    "    '''Definining the Functions\n",
    "    Inputs by every axis x and axis y.\n",
    "    Values or coordenates of axis X\n",
    "    'x' is the array neck_x and 'y' is the array lenght_y'''\n",
    "    total_elements=len(x) #This is the n in the pearson equation\n",
    "    #These are all the elements or lenght of the array\n",
    "    mult_sum_x_y = 0  #Initiation of counter \n",
    "    x_square = 0   #Initiatin of a counter\n",
    "    y_square = 0   #Initiation of a counter\n",
    "    for i in range (0,total_elements): #Initiations a loop for       \n",
    "        mult_sum_x_y += x[i]*y[i]#Multipicanding every element\n",
    "        #of the array years_x and oxynitro_y and adding up all in the counter to have the addtion\n",
    "        x_square += x[i]**2 #Computing the square of every element in years_x\n",
    "        y_square += y[i]**2 #Computing the square of every element in oxynitro_y\n",
    "    sum_x =sum(x) #Adding up all the values of years_x\n",
    "    square_sum_x=sum_x**2 #Adding up all the values of years_x but in the square\n",
    "    sum_y =sum(y) #Adding up all the values of oxynitro_y\n",
    "    square_sum_y=sum_y**2 #Adding up all the elements of oxynitro_y but in the square\n",
    "    mult_x_y= sum_x*sum_y #Multiplicating the sum of the before elements\n",
    "    r_pearson_numerator= mult_sum_x_y - ((mult_x_y)/total_elements) #Computing numerator (or first part) of the pearson formula\n",
    "    r_pearson_denominator = mt.sqrt(((x_square)-(square_sum_x/total_elements))*((y_square)-(square_sum_y/total_elements)))\n",
    "    #Computing the denominator of the formula\n",
    "    r_coeficient= r_pearson_numerator/r_pearson_denominator #Divition between the result of the numerador and the denominator\n",
    "    #these are the final values of the pearson formula\n",
    "    return r_coeficient #Returning the value"
   ]
  },
  {
   "cell_type": "code",
   "execution_count": 92,
   "metadata": {},
   "outputs": [],
   "source": [
    "def least_squares(x,y): #Initiation of the function\n",
    "    # 'x' is the array neck_x and 'y' is the array lenght_y\n",
    "    sum_x= sum(x) #Adding all the elements of x\n",
    "    sum_y = sum(y)#Adding all the elements of y\n",
    "    xsquare=0\n",
    "    sum_square= sum_x**2 #Adding all the elements and then doing the square of all. \n",
    "    n_elements= len(x) #Lenght of the array (this is the total elements in this case \"n\")\n",
    "    sumamult_x_y=0 #Counter to adding all the elements of the multiplication between x and y\n",
    "    for i in range(0, n_elements):#Initiation of the loop for \n",
    "        sumamult_x_y+= x[i]*y[i] #Multiplication of every element of x and y from the original inputs(arrays)\n",
    "        xsquare+= x[i]**2 #Square of every element of the x and it is adding to the counter in a sum\n",
    "    numerator= (n_elements*sumamult_x_y)-(sum_x*sum_y) #Computing the numerator of the formula\n",
    "    denominator= (n_elements*xsquare)-sum_square #Computing the denominator of the formula \n",
    "    b1= numerator/denominator #Getting the value of b1 this is the value that is together the variable x. \n",
    "    b0= (sum_y-(b1*sum_x))/n_elements #Getting the value of b0 that is the constant in the equation\n",
    "    return b1,b0 #Returning the values"
   ]
  },
  {
   "cell_type": "code",
   "execution_count": 93,
   "metadata": {},
   "outputs": [],
   "source": [
    "def SCE(y,b0,b1,x):\n",
    "    sum_sce= 0\n",
    "    for index in range(0, len(x)):\n",
    "        sum_sce+= ((y[index] -b0 -(b1*x[index])))**2\n",
    "    return sum_sce"
   ]
  },
  {
   "cell_type": "code",
   "execution_count": 94,
   "metadata": {},
   "outputs": [],
   "source": [
    "def sttc(y):\n",
    "    mean_y = (sum(y))/len(y)\n",
    "    sum_stcc = 0\n",
    "    for index in range (0, len(y)):\n",
    "        sum_stcc += (y[index]-mean_y)**2\n",
    "    return sum_stcc"
   ]
  },
  {
   "cell_type": "markdown",
   "metadata": {},
   "source": [
    "# Declare of data and Scatter Diagram"
   ]
  },
  {
   "cell_type": "code",
   "execution_count": 95,
   "metadata": {},
   "outputs": [
    {
     "data": {
      "image/png": "[encoded data removed]",
      "text/plain": [
       "<Figure size 432x288 with 1 Axes>"
      ]
     },
     "metadata": {
      "needs_background": "light"
     },
     "output_type": "display_data"
    }
   ],
   "source": [
    "neck_x = np.array([16,28,31,31.5,22,21,26.5,27,20,18,29,13,10.5,21.5,17.5,21.5,24,12,19,30,19,20,17,13,24,13.5,22,17.5,21,20,16,28,26,17,17,21,27,24,21.5,28,16.5,19,28,15,23,23,15.5,15,17,15,13,10,30.5,18])\n",
    "lenght_y = np.array([53,67.5,72,72,62,70,73.5,68.5,64,58,73,37,63,67,52,59,64,36,59,72,57.5,61,54,40,63,43,66.5,60.5,60,61,40,64,65,49,47,59,72,65,63,70.5,48,50,76.5,46,61.5,63.5,48,41,53,52.5,46,43.5,75,57.3])\n",
    "n_elements = len(lenght_y)\n",
    "mean_x = (sum(neck_x))/n_elements\n",
    "mean_y = (sum(lenght_y))/n_elements\n",
    "plt.plot(neck_x,lenght_y,'*')\n",
    "plt.plot(neck_x,lenght_y,'*',label = \"scatter\")\n",
    "plt.xlabel('Weight')\n",
    "plt.ylabel('Lenght')\n",
    "plt.title(\"Scatter Diagram\")\n",
    "plt.legend()\n",
    "plt.show()"
   ]
  },
  {
   "cell_type": "markdown",
   "metadata": {},
   "source": [
    "# Pearson correlation coefficient"
   ]
  },
  {
   "cell_type": "code",
   "execution_count": 96,
   "metadata": {},
   "outputs": [
    {
     "name": "stdout",
     "output_type": "stream",
     "text": [
      "The pearson coeficient is: 0.8674\n"
     ]
    }
   ],
   "source": [
    "pearson_coeficient =r_pearson(neck_x,lenght_y)\n",
    "print(\"The pearson coeficient is: {0:.4f}\".format(pearson_coeficient))"
   ]
  },
  {
   "cell_type": "markdown",
   "metadata": {},
   "source": [
    "# Regression equation"
   ]
  },
  {
   "cell_type": "code",
   "execution_count": 97,
   "metadata": {},
   "outputs": [
    {
     "name": "stdout",
     "output_type": "stream",
     "text": [
      "The model of the regression equation is \n",
      "lenght = 24.7920 + 1.6455(neck)\n"
     ]
    }
   ],
   "source": [
    "b1_b0= least_squares(neck_x, lenght_y)\n",
    "new_b1 =b1_b0[0]\n",
    "new_b0 = b1_b0[1]\n",
    "print(\"The model of the regression equation is \\nlenght = {0:.4f} + {1:.4f}(neck)\" .format(new_b0, new_b1))\n",
    "y_model = new_b1*neck_x+new_b0"
   ]
  },
  {
   "cell_type": "code",
   "execution_count": 98,
   "metadata": {},
   "outputs": [
    {
     "data": {
      "image/png": "[encoded data removed]",
      "text/plain": [
       "<Figure size 432x288 with 1 Axes>"
      ]
     },
     "metadata": {
      "needs_background": "light"
     },
     "output_type": "display_data"
    }
   ],
   "source": [
    "plt.plot(neck_x, lenght_y,'.')\n",
    "plt.plot(neck_x,lenght_y,'.',label = \"scatter\")\n",
    "plt.plot(neck_x,y_model,'-',label=\"Linear regression\")\n",
    "plt.xlabel('neck')\n",
    "plt.ylabel('lenght')\n",
    "plt.title(\"Scatter Diagram and Lineal Regression\")\n",
    "plt.legend()\n",
    "plt.show()"
   ]
  },
  {
   "cell_type": "markdown",
   "metadata": {},
   "source": [
    "# Error in the adjustment"
   ]
  },
  {
   "cell_type": "code",
   "execution_count": 99,
   "metadata": {},
   "outputs": [
    {
     "name": "stdout",
     "output_type": "stream",
     "text": [
      "error1 = 1.8796\n",
      "error2 = -3.3667\n",
      "error3 = -3.8032\n",
      "error4 = -4.6260\n",
      "error5 = 1.0065\n",
      "error6 = 10.6520\n",
      "error7 = 5.1016\n",
      "error8 = -0.7211\n",
      "error9 = 6.2975\n",
      "error10 = 3.5886\n",
      "error11 = 0.4878\n",
      "error12 = -9.1838\n",
      "error13 = 20.9300\n",
      "error14 = 6.8292\n",
      "error15 = -1.5887\n",
      "error16 = -1.1708\n",
      "error17 = -0.2846\n",
      "error18 = -8.5383\n",
      "error19 = 2.9430\n",
      "error20 = -2.1577\n",
      "error21 = 1.4430\n",
      "error22 = 3.2975\n",
      "error23 = 1.2341\n",
      "error24 = -6.1838\n",
      "error25 = -1.2846\n",
      "error26 = -4.0066\n",
      "error27 = 5.5065\n",
      "error28 = 6.9113\n",
      "error29 = 0.6520\n",
      "error30 = 3.2975\n",
      "error31 = -11.1204\n",
      "error32 = -6.8667\n",
      "error33 = -2.5756\n",
      "error34 = -3.7659\n",
      "error35 = -5.7659\n",
      "error36 = -0.3480\n",
      "error37 = 2.7789\n",
      "error38 = 0.7154\n",
      "error39 = 2.8292\n",
      "error40 = -0.3667\n",
      "error41 = -3.9432\n",
      "error42 = -6.0570\n",
      "error43 = 5.6333\n",
      "error44 = -3.4749\n",
      "error45 = -1.1391\n",
      "error46 = 0.8609\n",
      "error47 = -2.2976\n",
      "error48 = -8.4749\n",
      "error49 = 0.2341\n",
      "error50 = 3.0251\n",
      "error51 = -0.1838\n",
      "error52 = 2.2527\n",
      "error53 = 0.0195\n",
      "error54 = 2.8886\n"
     ]
    }
   ],
   "source": [
    "for i in range(0,n_elements):\n",
    "    e_i = lenght_y[i] - (new_b1*neck_x[i]+new_b0)\n",
    "    print(\"error{0} = {1:.4f}\".format(i+1,e_i))"
   ]
  },
  {
   "cell_type": "markdown",
   "metadata": {},
   "source": [
    "# Computing the SCE"
   ]
  },
  {
   "cell_type": "code",
   "execution_count": 100,
   "metadata": {},
   "outputs": [
    {
     "name": "stdout",
     "output_type": "stream",
     "text": [
      "The value of the SCE is = 1502.7937\n"
     ]
    }
   ],
   "source": [
    "SCE_Value= SCE(lenght_y,new_b0,new_b1,neck_x)                   \n",
    "print(\"The value of the SCE is = {0:.4f}\".format(SCE_Value))"
   ]
  },
  {
   "cell_type": "markdown",
   "metadata": {},
   "source": [
    "# Computing the STTC"
   ]
  },
  {
   "cell_type": "code",
   "execution_count": 101,
   "metadata": {},
   "outputs": [
    {
     "name": "stdout",
     "output_type": "stream",
     "text": [
      "The value of the STTC is: 6068.9550\n"
     ]
    }
   ],
   "source": [
    "STTC = sttc(lenght_y)\n",
    "print(\"The value of the STTC is: {0:.4f}\".format(STTC))"
   ]
  },
  {
   "cell_type": "markdown",
   "metadata": {},
   "source": [
    "# R´s Square"
   ]
  },
  {
   "cell_type": "code",
   "execution_count": 102,
   "metadata": {},
   "outputs": [
    {
     "name": "stdout",
     "output_type": "stream",
     "text": [
      "R^2 is : 75.238015%\n"
     ]
    }
   ],
   "source": [
    "r_square = 1- (SCE_Value/STTC)\n",
    "print(\"R^2 is : {0:4f}%\".format(r_square*100))"
   ]
  },
  {
   "cell_type": "markdown",
   "metadata": {},
   "source": [
    "# Prediction\n",
    "\n",
    "## Confidence interval  prediction for an observed future response"
   ]
  },
  {
   "cell_type": "code",
   "execution_count": 103,
   "metadata": {},
   "outputs": [
    {
     "name": "stdout",
     "output_type": "stream",
     "text": [
      "Enter the percent of the confidence interval (example: 95) 95\n",
      "Enter value of the circumference of the bear's neck (x) in inches \n",
      "to predict a confidence interval of the bear's height in inches (y).\n",
      "12\n",
      "34.2414 < y0 < 54.8353\n"
     ]
    }
   ],
   "source": [
    "# alpha is the percent of the confidence interval\n",
    "alpha = float(input(\"Enter the percent of the confidence interval (example: 95) \"))\n",
    "alpha = (1 - (alpha/100))/2\n",
    "# df is the degrees of freedom\n",
    "df = n_elements - 2\n",
    "# x_0 is to predict the value \"y\" \n",
    "x_0 = float(input(\"Enter value of the circumference of the bear's neck (x) in inches \\nto predict a confidence interval of the bear's height in inches (y).\\n\"))\n",
    "# t-student calculation\n",
    "value_t = t.ppf(alpha,df)*-1\n",
    "# sample standard deviation calculation\n",
    "s_deviation = mt.sqrt((SCE_Value/n_elements-2))\n",
    "# Sxx calculation\n",
    "S_xx = 0\n",
    "for index in range(0,n_elements):\n",
    "    S_xx += (neck_x[index]-mean_y)**2\n",
    "# y_predict is the predict value \n",
    "y_predict = new_b1*x_0+new_b0\n",
    "# y_0_right is for the predict value of the right and y_0_left is for the predict value of the left in the confidence interval\n",
    "y0_left = y_predict - (value_t)*(s_deviation)*(mt.sqrt(((1)+(1/n_elements)+((x_0-mean_x)**2/S_xx))))\n",
    "y0_right = y_predict + (value_t)*(s_deviation)*(mt.sqrt(((1)+(1/n_elements)+((x_0-mean_x)**2/S_xx))))\n",
    "print(\"{0:.4f} < y0 < {1:.4f}\".format(y0_left,y0_right))"
   ]
  },
  {
   "cell_type": "code",
   "execution_count": null,
   "metadata": {},
   "outputs": [],
   "source": []
  }
 ],
 "metadata": {
  "kernelspec": {
   "display_name": "Python 3",
   "language": "python",
   "name": "python3"
  },
  "language_info": {
   "codemirror_mode": {
    "name": "ipython",
    "version": 3
   },
   "file_extension": ".py",
   "mimetype": "text/x-python",
   "name": "python",
   "nbconvert_exporter": "python",
   "pygments_lexer": "ipython3",
   "version": "3.7.3"
  }
 },
 "nbformat": 4,
 "nbformat_minor": 2
}
