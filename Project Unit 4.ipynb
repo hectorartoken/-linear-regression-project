{
 "cells": [
  {
   "cell_type": "code",
   "execution_count": 4,
   "metadata": {},
   "outputs": [],
   "source": [
    "import numpy as np\n",
    "import matplotlib.pyplot as mpt\n",
    "import math as mt"
   ]
  },
  {
   "cell_type": "code",
   "execution_count": 5,
   "metadata": {},
   "outputs": [
    {
     "data": {
      "text/plain": [
       "<matplotlib.collections.PathCollection at 0x20de80e1eb8>"
      ]
     },
     "execution_count": 5,
     "metadata": {},
     "output_type": "execute_result"
    },
    {
     "data": {
      "image/png": "[encoded data removed]",
      "text/plain": [
       "<Figure size 432x288 with 1 Axes>"
      ]
     },
     "metadata": {
      "needs_background": "light"
     },
     "output_type": "display_data"
    }
   ],
   "source": [
    "years_x= np.array([1978,1979,1980,1981,1982,1983,1984,1985,1986,1987,1988,1989,1990,1991,1992,1993,1994,1995,1996,1997,1998,1999] )\n",
    "#Values or coordenates of axis X\n",
    "oxynitro_y = np.array([2.30,2.55,2.90,3.83,2.53,2.77,3.93,2.03,4.39,3.04,3.41,5.07,3.95,3.14,3.44,3.63,4.50,3.95,5.24,3.30,4.36,3.33])\n",
    "#Values or coordenates of axis Y\n",
    "#Plotting the cartesian plane and the dispersion diagram\n",
    "mpt.scatter(years_x, oxynitro_y)"
   ]
  },
  {
   "cell_type": "markdown",
   "metadata": {},
   "source": [
    "## Computing the  Least Squares "
   ]
  },
  {
   "cell_type": "code",
   "execution_count": 6,
   "metadata": {},
   "outputs": [
    {
     "data": {
      "text/plain": [
       "16"
      ]
     },
     "execution_count": 6,
     "metadata": {},
     "output_type": "execute_result"
    }
   ],
   "source": [
    "4**2\n"
   ]
  },
  {
   "cell_type": "code",
   "execution_count": 1,
   "metadata": {},
   "outputs": [
    {
     "name": "stdout",
     "output_type": "stream",
     "text": [
      "0.0715810276679947\n",
      "-138.8120553359893\n",
      "The model of the equation is y= -138.81205534 + 0.07158103x\n"
     ]
    }
   ],
   "source": [
    "import numpy as np\n",
    "def least_squares(years_x, oxynitro_y): #Initiation of the function\n",
    "    sum_x= sum(years_x) #Adding all the elements of x\n",
    "    sum_y = sum(oxynitro_y)#Adding all the elements of y\n",
    "    xsquare=0\n",
    "    sum_square= sum_x**2 #Adding all the elements and then doing the square of all. \n",
    "    n_elements= len(years_x) #Lenght of the array (this is the total elements in this case \"n\")\n",
    "    sumamult_x_y=0 #Counter to adding all the elements of the multiplication between x and y\n",
    "    for i in range(0, n_elements):#Initiation of the loop for \n",
    "        sumamult_x_y+= years_x[i]*oxynitro_y[i] #Multiplication of every element of x and y from the original inputs(arrays)\n",
    "        xsquare+= years_x[i]**2 #Square of every element of the x and it is adding to the counter in a sum\n",
    "    numerator= (n_elements*sumamult_x_y)-(sum_x*sum_y) #Computing the numerator of the formula\n",
    "    denominator= (n_elements*xsquare)-sum_square #Computing the denominator of the formula \n",
    "    b1= numerator/denominator #Getting the value of b1 this is the value that is together the variable x. \n",
    "    b0= (sum_y-(b1*sum_x))/n_elements #Getting the value of b0 that is the constant in the equation\n",
    "    return b1,b0 #Returning the values\n",
    "\n",
    "\n",
    "years_x= np.array([1978,1979,1980,1981,1982,1983,1984,1985,1986,1987,1988,1989,1990,1991,1992,1993,1994,1995,1996,1997,1998,1999])\n",
    "oxynitro_y = np.array([2.30,2.55,2.90,3.83,2.53,2.77,3.93,2.03,4.39,3.04,3.41,5.07,3.95,3.14,3.44,3.63,4.50,3.95,5.24,3.30,4.36,3.33])\n",
    "b1_b0= least_squares(years_x, oxynitro_y)\n",
    "new_b1 =b1_b0[0]\n",
    "new_b0 = b1_b0[1]\n",
    "print(new_b1)\n",
    "print(new_b0)\n",
    "print(\"The model of the equation is y= {0:.8f} + {1:.8f}x\" .format(new_b0, new_b1))"
   ]
  },
  {
   "cell_type": "markdown",
   "metadata": {},
   "source": [
    "## Pearson Coeficient r:\n",
    "### Relation between the dispersion and the corelation \n"
   ]
  },
  {
   "cell_type": "code",
   "execution_count": null,
   "metadata": {},
   "outputs": [],
   "source": []
  },
  {
   "cell_type": "code",
   "execution_count": null,
   "metadata": {},
   "outputs": [],
   "source": []
  },
  {
   "cell_type": "code",
   "execution_count": 16,
   "metadata": {},
   "outputs": [
    {
     "name": "stdout",
     "output_type": "stream",
     "text": [
      "The pearson coeficient is: 0.5413\n"
     ]
    }
   ],
   "source": [
    "import numpy as np #Importing numpy to use the arrays\n",
    "import math as mt #Importing math to compute math operations\n",
    "\n",
    "def r_pearson(years_x, oxynitro_y):#Definining the Functions\n",
    "    #Inputs by every axis x and axis y.\n",
    "#Values or coordenates of axis X\n",
    "\n",
    "    total_elements=len(years_x) #This is the n in the pearson equation\n",
    "    #These are all the elements or lenght of the array\n",
    "    mult_sum_x_y=0 #Initiation of counter \n",
    "    x_square= 0 #Initiatin of a counter\n",
    "    y_square=0 #Initiation of a counter\n",
    "    for i in range (0,total_elements): #Initiations a loop for       \n",
    "        mult_sum_x_y += years_x[i]*oxynitro_y[i]#Multipicanding every element\n",
    "        #of the array years_x and oxynitro_y and adding up all in the counter to have the addtion\n",
    "        x_square += years_x[i]**2 #Computing the square of every element in years_x\n",
    "        y_square += oxynitro_y[i]**2 #Computing the square of every element in oxynitro_y\n",
    "    sum_x =sum(years_x)#Adding up all the values of years_x\n",
    "    square_sum_x=sum_x**2 #Adding up all the values of years_x but in the square\n",
    "    sum_y =sum(oxynitro_y)#Adding up all the values of oxynitro_y\n",
    "    square_sum_y=sum_y**2 #Adding up all the elements of oxynitro_y but in the square\n",
    "    mult_x_y= sum_x*sum_y #Multiplicating the sum of the before elements\n",
    "    r_pearson_numerator= mult_sum_x_y - ((mult_x_y)/total_elements)#Computing numerator (or first part) of the pearson formula\n",
    "    r_pearson_denominator = mt.sqrt(((x_square)-(square_sum_x/total_elements))*((y_square)-(square_sum_y/total_elements)))\n",
    "    #Computing the denominator of the formula\n",
    "    r_coeficient= r_pearson_numerator/r_pearson_denominator #Divition between the result of the numerador and the denominator\n",
    "    #these are the final values of the pearson formula\n",
    "    return r_coeficient #Returning the value\n",
    "\n",
    "\n",
    "years_x= np.array([1978,1979,1980,1981,1982,1983,1984,1985,1986,1987,1988,1989,1990,1991,1992,1993,1994,1995,1996,1997,1998,1999])\n",
    "oxynitro_y = np.array([2.30,2.55,2.90,3.83,2.53,2.77,3.93,2.03,4.39,3.04,3.41,5.07,3.95,3.14,3.44,3.63,4.50,3.95,5.24,3.30,4.36,3.33])\n",
    "\n",
    "pearson_coeficient =r_pearson(years_x,oxynitro_y)\n",
    "print(\"The pearson coeficient is: {0:.4f}\".format(pearson_coeficient))"
   ]
  },
  {
   "cell_type": "markdown",
   "metadata": {},
   "source": [
    "# Computing the SCE"
   ]
  },
  {
   "cell_type": "code",
   "execution_count": 5,
   "metadata": {},
   "outputs": [
    {
     "name": "stdout",
     "output_type": "stream",
     "text": [
      "The value of the SCE is =  10.945913833992138\n"
     ]
    }
   ],
   "source": [
    "import numpy as np\n",
    "def SCE(oxynitro_y,b0,b1,years_x):\n",
    "    sum_sce= 0\n",
    "    for index in range(0, len(years_x)):\n",
    "        sum_sce+= ((oxynitro_y[index] -b0 -(b1*years_x[index])))**2\n",
    "    return sum_sce\n",
    "    \n",
    "    \n",
    "years_x= np.array([1978,1979,1980,1981,1982,1983,1984,1985,1986,1987,1988,1989,1990,1991,1992,1993,1994,1995,1996,1997,1998,1999])\n",
    "oxynitro_y = np.array([2.30,2.55,2.90,3.83,2.53,2.77,3.93,2.03,4.39,3.04,3.41,5.07,3.95,3.14,3.44,3.63,4.50,3.95,5.24,3.30,4.36,3.33])\n",
    "\n",
    "SCE_Value= SCE(oxynitro_y,new_b0,new_b1,years_x)                   \n",
    "print(\"The value of the SCE is = \",SCE_Value)"
   ]
  },
  {
   "cell_type": "markdown",
   "metadata": {},
   "source": [
    "# Computing the STTC\n"
   ]
  },
  {
   "cell_type": "code",
   "execution_count": 8,
   "metadata": {},
   "outputs": [
    {
     "name": "stdout",
     "output_type": "stream",
     "text": [
      "The value of the STTC is:  15.483077272727275\n"
     ]
    }
   ],
   "source": [
    "def sttc(oxynitro_y):\n",
    "    mean_y = (sum(oxynitro_y))/len(oxynitro_y)\n",
    "    sum_stcc = 0\n",
    "    for index in range (0, len(oxynitro_y)):\n",
    "        sum_stcc += (oxynitro_y[index]-mean_y)**2\n",
    "    return sum_stcc\n",
    "\n",
    "oxynitro_y = np.array([2.30,2.55,2.90,3.83,2.53,2.77,3.93,2.03,4.39,3.04,3.41,5.07,3.95,3.14,3.44,3.63,4.50,3.95,5.24,3.30,4.36,3.33])\n",
    "STTC = sttc(oxynitro_y)\n",
    "print(\"The value of the STTC is: \", STTC)"
   ]
  },
  {
   "cell_type": "markdown",
   "metadata": {},
   "source": [
    "# R's Square"
   ]
  },
  {
   "cell_type": "code",
   "execution_count": 15,
   "metadata": {},
   "outputs": [
    {
     "name": "stdout",
     "output_type": "stream",
     "text": [
      "0.2930401598348372\n"
     ]
    }
   ],
   "source": [
    "r_square= 1- (SCE_Value/STTC)\n",
    "print(r_square)"
   ]
  },
  {
   "cell_type": "code",
   "execution_count": null,
   "metadata": {},
   "outputs": [],
   "source": []
  }
 ],
 "metadata": {
  "kernelspec": {
   "display_name": "Python 3",
   "language": "python",
   "name": "python3"
  },
  "language_info": {
   "codemirror_mode": {
    "name": "ipython",
    "version": 3
   },
   "file_extension": ".py",
   "mimetype": "text/x-python",
   "name": "python",
   "nbconvert_exporter": "python",
   "pygments_lexer": "ipython3",
   "version": "3.7.3"
  }
 },
 "nbformat": 4,
 "nbformat_minor": 2
}
